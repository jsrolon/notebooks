{
 "cells": [
  {
   "cell_type": "markdown",
   "metadata": {},
   "source": [
    "# Setting up\n",
    "\n",
    "Following the process described in [machine learning mastery](https://machinelearningmastery.com/process-for-working-through-machine-learning-problems/), I will literally begin with the steps to learn the Python ML platform, which are [here](https://machinelearningmastery.com/python-machine-learning-mini-course/). I'll start directly from Step 2, as I installed Anaconda and I have a full Jupyter environment ready.\n",
    "\n",
    "## Step 2\n",
    "We will define a simple 2-dimensional array.\n",
    "\n",
    "We can see that a dataframe is more or less like an Excel sheet. In this simple iteration it has 3 components: the data itself, and 2 pieces of metadata, which are the column names and the row names. Given that we have a 2D matrix created as a list of lists, I imagined the inner lists \"hanging\" from the positions of the outer list, but that turns out not to be the case.\n",
    "\n",
    "Instead, we can think about a \"vertical\" outer list, from which the inner lists protrude to the side."
   ]
  },
  {
   "cell_type": "code",
   "execution_count": 2,
   "metadata": {},
   "outputs": [
    {
     "name": "stdout",
     "output_type": "stream",
     "text": [
      "   one  two  three\n",
      "a    1    2      3\n",
      "b    4    5      6\n"
     ]
    }
   ],
   "source": [
    "import numpy\n",
    "import pandas as pd\n",
    "\n",
    "matrix = numpy.array([[1, 2, 3], [4, 5, 6]])\n",
    "rownames = ['a', 'b']\n",
    "colnames = ['one', 'two', 'three']\n",
    "\n",
    "df = pd.DataFrame(matrix, index=rownames, columns=colnames)\n",
    "print(df)"
   ]
  }
 ],
 "metadata": {
  "kernelspec": {
   "display_name": "Python 3",
   "language": "python",
   "name": "python3"
  },
  "language_info": {
   "codemirror_mode": {
    "name": "ipython",
    "version": 3
   },
   "file_extension": ".py",
   "mimetype": "text/x-python",
   "name": "python",
   "nbconvert_exporter": "python",
   "pygments_lexer": "ipython3",
   "version": "3.7.3"
  }
 },
 "nbformat": 4,
 "nbformat_minor": 2
}
